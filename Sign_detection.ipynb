{
  "nbformat": 4,
  "nbformat_minor": 0,
  "metadata": {
    "colab": {
      "name": "Sign detection.ipynb",
      "private_outputs": true,
      "provenance": [],
      "mount_file_id": "1W-rNQqQl5JzowrvjPuzPpkjEZVj-RI86",
      "authorship_tag": "ABX9TyOE/xiEVUDMTmYCPOkAxaAN",
      "include_colab_link": true
    },
    "kernelspec": {
      "name": "python3",
      "display_name": "Python 3"
    },
    "language_info": {
      "name": "python"
    },
    "accelerator": "GPU",
    "gpuClass": "standard"
  },
  "cells": [
    {
      "cell_type": "markdown",
      "metadata": {
        "id": "view-in-github",
        "colab_type": "text"
      },
      "source": [
        "<a href=\"https://colab.research.google.com/github/Prattoypaul/deeplearning/blob/machinel/Sign_detection.ipynb\" target=\"_parent\"><img src=\"https://colab.research.google.com/assets/colab-badge.svg\" alt=\"Open In Colab\"/></a>"
      ]
    },
    {
      "cell_type": "code",
      "execution_count": null,
      "metadata": {
        "id": "8FXi5YLMJB0C"
      },
      "outputs": [],
      "source": [
        "import numpy as np\n",
        "import pandas as pd\n",
        "import os,cv2\n",
        "import matplotlib.pyplot as plt\n",
        "import seaborn as sns\n",
        "import tensorflow as tf\n",
        "from tensorflow import keras\n"
      ]
    },
    {
      "cell_type": "code",
      "source": [
        "dataset='/content/drive/MyDrive/Colab Notebooks/A==4 chatbot/Data set'"
      ],
      "metadata": {
        "id": "6Yx9K_zgKM11"
      },
      "execution_count": null,
      "outputs": []
    },
    {
      "cell_type": "code",
      "source": [
        "df=keras.preprocessing.image_dataset_from_directory(\n",
        "    dataset,seed=123,shuffle=True,image_size=(256,256),batch_size=32\n",
        ")"
      ],
      "metadata": {
        "id": "w_FN-1yEKv8K"
      },
      "execution_count": null,
      "outputs": []
    },
    {
      "cell_type": "code",
      "source": [
        "classes=df.class_names\n",
        "classes"
      ],
      "metadata": {
        "id": "38HUl1nrMJhr"
      },
      "execution_count": null,
      "outputs": []
    },
    {
      "cell_type": "code",
      "source": [
        "len(dataset)"
      ],
      "metadata": {
        "id": "S9vLtcZyMVf6"
      },
      "execution_count": null,
      "outputs": []
    },
    {
      "cell_type": "code",
      "source": [
        "for img,label in df.take(1):\n",
        "  print(img.shape)\n",
        "  print(label.numpy())"
      ],
      "metadata": {
        "id": "07pG3UB-Ml6R"
      },
      "execution_count": null,
      "outputs": []
    },
    {
      "cell_type": "code",
      "source": [
        "len(dataset)*0.8"
      ],
      "metadata": {
        "id": "ceTMVOc1NIRo"
      },
      "execution_count": null,
      "outputs": []
    },
    {
      "cell_type": "code",
      "source": [
        "train_ds=df.take(48)\n",
        "test=df.skip(48)\n",
        "test_ds=test.take(6)\n",
        "val_ds=test.skip(6)"
      ],
      "metadata": {
        "id": "_LM69MvSNKGB"
      },
      "execution_count": null,
      "outputs": []
    },
    {
      "cell_type": "code",
      "source": [
        "train_ds=train_ds.cache().shuffle(100000).prefetch(buffer_size=tf.data.AUTOTUNE)\n",
        "test_ds=test_ds.cache().shuffle(100000).prefetch(buffer_size=tf.data.AUTOTUNE)\n",
        "val_ds=val_ds.cache().shuffle(100000).prefetch(buffer_size=tf.data.AUTOTUNE)"
      ],
      "metadata": {
        "id": "6LOr9wQTNdKA"
      },
      "execution_count": null,
      "outputs": []
    },
    {
      "cell_type": "code",
      "source": [
        "plt.figure(figsize=(15,15))\n",
        "for img,lab in df.take(1):\n",
        "  for i in range(12):\n",
        "    plt.subplot(3,4,i+1)\n",
        "    plt.imshow(img[i].numpy().astype('uint8'))\n",
        "    plt.title(classes[lab[i]])\n",
        "    plt.axis('off')"
      ],
      "metadata": {
        "id": "uvVs2iqFNhUU"
      },
      "execution_count": null,
      "outputs": []
    },
    {
      "cell_type": "code",
      "source": [
        "resize_rescall=keras.Sequential([\n",
        "    keras.layers.experimental.preprocessing.Rescaling(1/255),\n",
        "    keras.layers.experimental.preprocessing.Resizing(256,256)\n",
        "])"
      ],
      "metadata": {
        "id": "h7qNvc9kNqVR"
      },
      "execution_count": null,
      "outputs": []
    },
    {
      "cell_type": "code",
      "source": [
        "data_aug=keras.Sequential([\n",
        "    keras.layers.experimental.preprocessing.RandomFlip('horizontal_and_vertical'),\n",
        "    keras.layers.experimental.preprocessing.RandomRotation(0.3)\n",
        "])"
      ],
      "metadata": {
        "id": "T2upyI4cNwQy"
      },
      "execution_count": null,
      "outputs": []
    },
    {
      "cell_type": "code",
      "source": [
        "from tensorflow.python.data.ops.dataset_ops import AUTOTUNE\n",
        "from tensorflow.python import training\n",
        "train_ds=train_ds.map(\n",
        "    lambda x,y :(data_aug(x,training=True),y)\n",
        ").prefetch(buffer_size=AUTOTUNE)"
      ],
      "metadata": {
        "id": "N-C74cC0Nzao"
      },
      "execution_count": null,
      "outputs": []
    },
    {
      "cell_type": "code",
      "source": [
        "input_shape=(32,256,256,3)"
      ],
      "metadata": {
        "id": "T5FTKNB7N25R"
      },
      "execution_count": null,
      "outputs": []
    },
    {
      "cell_type": "code",
      "source": [
        "model=keras.models.Sequential([\n",
        "                               resize_rescall,\n",
        "                               keras.layers.Conv2D(32,(3,3),activation='relu',input_shape=input_shape),\n",
        "                               keras.layers.MaxPooling2D((2,2)),\n",
        "                               keras.layers.Conv2D(64,(3,3),activation='relu'),\n",
        "                               keras.layers.MaxPooling2D((2,2)),\n",
        "                               keras.layers.Conv2D(264,(3,3),activation='relu'),\n",
        "                               keras.layers.MaxPooling2D((2,2)),\n",
        "                               keras.layers.Conv2D(512,(3,3),activation='relu'),\n",
        "                               keras.layers.MaxPooling2D((2,2)),\n",
        "                               keras.layers.Conv2D(512,(3,3),activation='relu'),\n",
        "                               keras.layers.MaxPooling2D((2,2)),\n",
        "                               keras.layers.Conv2D(1024,(3,3),activation='relu'),\n",
        "                               keras.layers.MaxPooling2D((2,2)),\n",
        "                               keras.layers.Flatten(),\n",
        "                               keras.layers.Dense(1028,activation='relu'),\n",
        "                               keras.layers.Dense(512,activation='relu'),\n",
        "                               keras.layers.Dense(256,activation='relu'),\n",
        "                               keras.layers.Dense(128,activation='relu'),\n",
        "                               keras.layers.Dense(64,activation='relu'),\n",
        "                              \n",
        "                               keras.layers.Dense(21,activation='softmax')\n",
        "\n",
        "\n",
        "\n",
        "\n",
        "                               \n",
        "])\n",
        "\n",
        "model.compile(\n",
        "    optimizer='adam',\n",
        "    loss=keras.losses.SparseCategoricalCrossentropy(from_logits=False),\n",
        "    metrics=['acc']\n",
        "\n",
        ")"
      ],
      "metadata": {
        "id": "gOHLK_mdN6b4"
      },
      "execution_count": null,
      "outputs": []
    },
    {
      "cell_type": "code",
      "source": [
        "model.build(input_shape=input_shape)"
      ],
      "metadata": {
        "id": "Nai5FoRsOCjB"
      },
      "execution_count": null,
      "outputs": []
    },
    {
      "cell_type": "code",
      "source": [
        "model.summary()"
      ],
      "metadata": {
        "id": "zmgewuN5Otg3"
      },
      "execution_count": null,
      "outputs": []
    },
    {
      "cell_type": "code",
      "source": [
        "ht=model.fit(train_ds,batch_size=32,validation_data=val_ds,verbose=1,\n",
        "             epochs=50)"
      ],
      "metadata": {
        "id": "WC53HrM2O0vx"
      },
      "execution_count": null,
      "outputs": []
    },
    {
      "cell_type": "code",
      "source": [
        "model.evaluate(test_ds)"
      ],
      "metadata": {
        "id": "Sd7eZrVm4PQu"
      },
      "execution_count": null,
      "outputs": []
    },
    {
      "cell_type": "code",
      "source": [
        "ht.params"
      ],
      "metadata": {
        "id": "b09gcKTL8grI"
      },
      "execution_count": null,
      "outputs": []
    },
    {
      "cell_type": "code",
      "source": [
        "len(ht.history['loss'])"
      ],
      "metadata": {
        "id": "gJ5_emqX8ogF"
      },
      "execution_count": null,
      "outputs": []
    },
    {
      "cell_type": "code",
      "source": [
        "ht.history.keys()"
      ],
      "metadata": {
        "id": "BkycF5G78set"
      },
      "execution_count": null,
      "outputs": []
    },
    {
      "cell_type": "code",
      "source": [
        "acc=ht.history['acc']\n",
        "loss=ht.history['loss']\n",
        "val_acc=ht.history['val_acc']\n",
        "val_loss=ht.history['val_loss']"
      ],
      "metadata": {
        "id": "PFgVcg8_8vwd"
      },
      "execution_count": null,
      "outputs": []
    },
    {
      "cell_type": "code",
      "source": [
        "plt.figure(figsize=(8,8))\n",
        "plt.subplot(1,2,1)\n",
        "plt.plot(range(50),acc,label='Traing_Accuracy')\n",
        "plt.plot(range(50),val_acc,label='Validation_Accuracy')\n",
        "plt.legend(loc='upper right')\n",
        "plt.title(\"Training_Validation_Accuracy\")\n",
        "\n",
        "plt.subplot(1,2,2)\n",
        "plt.plot(range(50),loss,label='Training_loss')\n",
        "plt.plot(range(50),val_loss,label='Validtion_loss')\n",
        "plt.legend(loc=\"lower left\")\n",
        "plt.title(\"training_Validation_loss\")\n",
        "\n",
        "plt.show()"
      ],
      "metadata": {
        "id": "nHQaSYDP85jj"
      },
      "execution_count": null,
      "outputs": []
    },
    {
      "cell_type": "code",
      "source": [
        "for img_batch,lab_batch in test_ds.take(1):\n",
        "  first_img=img_batch[0].numpy().astype('uint8')\n",
        "  first_label=lab_batch[0].numpy()\n",
        "\n",
        "  plt.imshow(first_img)\n",
        "  print(\"Acvtual_label:\",classes[first_label])\n",
        "  batch_prediction=model.predict(img_batch)\n",
        "  print(\n",
        "      \"Predict_label:\",classes[np.argmax(batch_prediction[0])]\n",
        "  )"
      ],
      "metadata": {
        "id": "xXymu1Hp9VSu"
      },
      "execution_count": null,
      "outputs": []
    },
    {
      "cell_type": "code",
      "source": [
        "def predict(model, img):\n",
        "    img_array = tf.keras.preprocessing.image.img_to_array(images[i].numpy())\n",
        "    img_array = tf.expand_dims(img_array, 0)\n",
        "\n",
        "    predictions = model.predict(img_array)\n",
        "\n",
        "    predicted_class = classes[np.argmax(predictions[0])]\n",
        "    confidence = round(100 * (np.max(predictions[0])), 2)\n",
        "    return predicted_class, confidence"
      ],
      "metadata": {
        "id": "Ig7LaFdi9ayk"
      },
      "execution_count": null,
      "outputs": []
    },
    {
      "cell_type": "code",
      "source": [
        "plt.figure(figsize=(15, 15))\n",
        "for images, labels in test_ds.take(1):\n",
        "    for i in range(9):\n",
        "        ax = plt.subplot(3, 3, i + 1)\n",
        "        plt.imshow(images[i].numpy().astype(\"uint8\"))\n",
        "        \n",
        "        predicted_class, confidence = predict(model, images[i].numpy())\n",
        "        actual_class = classes[labels[i]] \n",
        "        \n",
        "        plt.title(f\"Actual: {actual_class},\\n Predicted: {predicted_class}.\\n Confidence: {confidence}%\")\n",
        "        \n",
        "        plt.axis(\"off\")"
      ],
      "metadata": {
        "id": "ZnVhM2-T9eZl"
      },
      "execution_count": null,
      "outputs": []
    }
  ]
}