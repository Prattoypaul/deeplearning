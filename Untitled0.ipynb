{
  "nbformat": 4,
  "nbformat_minor": 0,
  "metadata": {
    "colab": {
      "name": "Untitled0.ipynb",
      "private_outputs": true,
      "provenance": [],
      "collapsed_sections": [],
      "mount_file_id": "1lyvTCQnGfYtKePTV8hznW_f942iUMTIN",
      "authorship_tag": "ABX9TyOfKnldKy9dGSNIBzVyeOAd",
      "include_colab_link": true
    },
    "kernelspec": {
      "name": "python3",
      "display_name": "Python 3"
    },
    "language_info": {
      "name": "python"
    },
    "accelerator": "GPU"
  },
  "cells": [
    {
      "cell_type": "markdown",
      "metadata": {
        "id": "view-in-github",
        "colab_type": "text"
      },
      "source": [
        "<a href=\"https://colab.research.google.com/github/Prattoypaul/deeplearning/blob/machinel/Untitled0.ipynb\" target=\"_parent\"><img src=\"https://colab.research.google.com/assets/colab-badge.svg\" alt=\"Open In Colab\"/></a>"
      ]
    },
    {
      "cell_type": "code",
      "execution_count": null,
      "metadata": {
        "id": "SvU6EViZeRt9"
      },
      "outputs": [],
      "source": [
        "import numpy as np\n",
        "import tensorflow as tf\n",
        "from tensorflow import keras\n",
        "import matplotlib.pyplot as plt\n",
        "import cv2 ,os"
      ]
    },
    {
      "cell_type": "code",
      "source": [
        "data=keras.preprocessing.image_dataset_from_directory('/content/drive/MyDrive/Colab Notebooks/defence/archive (71)/IMG_CLASSES',\n",
        "                                                      shuffle=True,\n",
        "                                                      image_size=(256,256),\n",
        "                                                      batch_size=32)"
      ],
      "metadata": {
        "id": "LQE3z1D3iVZj"
      },
      "execution_count": null,
      "outputs": []
    },
    {
      "cell_type": "code",
      "source": [
        "classes=data.class_names"
      ],
      "metadata": {
        "id": "Hi7qcgBwj2NE"
      },
      "execution_count": null,
      "outputs": []
    },
    {
      "cell_type": "code",
      "source": [
        "classes"
      ],
      "metadata": {
        "id": "gVzUr70tj9Lb"
      },
      "execution_count": null,
      "outputs": []
    },
    {
      "cell_type": "code",
      "source": [
        "len(data)"
      ],
      "metadata": {
        "id": "BSblOi7NkHX7"
      },
      "execution_count": null,
      "outputs": []
    },
    {
      "cell_type": "code",
      "source": [
        "for image_batch ,lab_batch in data.take(1):\n",
        "  print(image_batch.shape)\n",
        "  print(lab_batch.numpy())\n",
        "  plt.imshow(image_batch[0].numpy().astype('uint8'))\n",
        "  plt.title(classes[lab_batch[0]])\n",
        "  plt.axis('off')"
      ],
      "metadata": {
        "id": "aoXisgeMlSE_"
      },
      "execution_count": null,
      "outputs": []
    },
    {
      "cell_type": "code",
      "source": [
        "plt.figure(figsize=(25,25))\n",
        "for image_batch,lab_batch in  data.take(1):\n",
        "  for i in range(16):\n",
        "    plt.subplot(4,4,i+1)\n",
        "    plt.imshow(image_batch[i].numpy().astype('uint8'))\n",
        "    plt.title(classes[lab_batch[i]])\n",
        "    plt.axis('off')"
      ],
      "metadata": {
        "id": "IXXEAFbCqMfs"
      },
      "execution_count": null,
      "outputs": []
    },
    {
      "cell_type": "code",
      "source": [
        "len(data)*0.8\n"
      ],
      "metadata": {
        "id": "P-DV4xsYuOnl"
      },
      "execution_count": null,
      "outputs": []
    },
    {
      "cell_type": "code",
      "source": [
        "train_ds=data.take(159)\n",
        "test=data.skip(159)\n",
        "test_ds=test.take(20)\n",
        "val_ds=test.skip(20)"
      ],
      "metadata": {
        "id": "arcN7LWuwTes"
      },
      "execution_count": null,
      "outputs": []
    },
    {
      "cell_type": "code",
      "source": [
        "train_ds=train_ds.shuffle(1000).prefetch(buffer_size=tf.data.AUTOTUNE)\n",
        "test_ds=test_ds.shuffle(1000).prefetch(buffer_size=tf.data.AUTOTUNE)\n",
        "val_ds=val_ds.shuffle(1000).prefetch(buffer_size=tf.data.AUTOTUNE)"
      ],
      "metadata": {
        "id": "l0EHOP0vyQCU"
      },
      "execution_count": null,
      "outputs": []
    },
    {
      "cell_type": "code",
      "source": [
        "from keras import layers,models"
      ],
      "metadata": {
        "id": "22ejm5w91G9-"
      },
      "execution_count": null,
      "outputs": []
    },
    {
      "cell_type": "code",
      "source": [
        "resize_rescale=keras.Sequential([\n",
        "                                 keras.layers.experimental.preprocessing.Resizing(256,256),\n",
        "                                 keras.layers.experimental.preprocessing.Rescaling(1/255),\n",
        "])"
      ],
      "metadata": {
        "id": "oHTw25JG1yiF"
      },
      "execution_count": null,
      "outputs": []
    },
    {
      "cell_type": "code",
      "source": [
        "augmentation=keras.Sequential([\n",
        "                               keras.layers.experimental.preprocessing.RandomFlip('horizontal_and_vertical'),\n",
        "                               keras.layers.experimental.preprocessing.RandomRotation(0.25)\n",
        "])"
      ],
      "metadata": {
        "id": "K-HZ_WJj6oUW"
      },
      "execution_count": null,
      "outputs": []
    },
    {
      "cell_type": "code",
      "source": [
        "train_ds=train_ds.map(\n",
        "    lambda x,y:(augmentation(x,training=True),y)\n",
        ").prefetch(buffer_size=tf.data.AUTOTUNE)"
      ],
      "metadata": {
        "id": "dpn98EzO9R5w"
      },
      "execution_count": null,
      "outputs": []
    },
    {
      "cell_type": "code",
      "source": [
        "input_shape=(32,256,256,3)"
      ],
      "metadata": {
        "id": "outnuTd__2NN"
      },
      "execution_count": null,
      "outputs": []
    },
    {
      "cell_type": "code",
      "source": [
        "model=keras.Sequential([\n",
        "                        resize_rescale,\n",
        "                        keras.layers.Conv2D(32,(3,3),activation='relu',input_shape=input_shape),\n",
        "                        keras.layers.MaxPooling2D((2,2)),\n",
        "                        keras.layers.Conv2D(64,(3,3),activation='relu'),\n",
        "                        keras.layers.MaxPooling2D((2,2)),\n",
        "                        keras.layers.Conv2D(64,(3,3),activation='relu'),\n",
        "                        keras.layers.MaxPooling2D((2,2)),\n",
        "                        keras.layers.Conv2D(64,(3,3),activation='relu'),\n",
        "                        keras.layers.MaxPooling2D((2,2)),\n",
        "                        keras.layers.Conv2D(64,(3,3),activation='relu'),\n",
        "                        keras.layers.MaxPooling2D((2,2)),\n",
        "                       \n",
        "\n",
        "                        keras.layers.Flatten(),\n",
        "                        keras.layers.Dense(64,activation='relu'),\n",
        "                        keras.layers.Dense(32,activation='relu'),\n",
        "                        keras.layers.Dense(10,activation='softmax')\n",
        "\n",
        "\n",
        "])\n",
        "\n",
        "\n",
        "model.compile(\n",
        "    optimizer='adam',\n",
        "    loss=keras.losses.SparseCategoricalCrossentropy(from_logits=False),\n",
        "    metrics='accuracy'\n",
        ")"
      ],
      "metadata": {
        "id": "rPxvjGYhBpvO"
      },
      "execution_count": null,
      "outputs": []
    },
    {
      "cell_type": "code",
      "source": [
        "ht=model.fit(train_ds,batch_size=32,verbose=1,validation_data=val_ds,epochs=30)"
      ],
      "metadata": {
        "id": "OFdyBGPHEgsu"
      },
      "execution_count": null,
      "outputs": []
    },
    {
      "cell_type": "code",
      "source": [
        "!nvidia-smi"
      ],
      "metadata": {
        "id": "LvYkisK6HeMP"
      },
      "execution_count": null,
      "outputs": []
    },
    {
      "cell_type": "code",
      "source": [
        "model.evaluate(test_ds)"
      ],
      "metadata": {
        "id": "mAQBW7r8Zoz_"
      },
      "execution_count": null,
      "outputs": []
    },
    {
      "cell_type": "code",
      "source": [
        "ht.params"
      ],
      "metadata": {
        "id": "oCoC8Z9GZ65v"
      },
      "execution_count": null,
      "outputs": []
    },
    {
      "cell_type": "code",
      "source": [
        "ht.history.keys()"
      ],
      "metadata": {
        "id": "62jJNxQMZ-RP"
      },
      "execution_count": null,
      "outputs": []
    },
    {
      "cell_type": "code",
      "source": [
        "loss=ht.history['loss']\n",
        "acc=ht.history['accuracy']\n",
        "val_loss=ht.history['val_loss']\n",
        "val_acc=ht.history['val_accuracy']"
      ],
      "metadata": {
        "id": "IjhyxXSaaLyf"
      },
      "execution_count": null,
      "outputs": []
    },
    {
      "cell_type": "code",
      "source": [
        "plt.figure(figsize=(10,8))\n",
        "plt.subplot(1,2,1)\n",
        "plt.plot(range(30),acc,label='train_Accuracy')\n",
        "plt.plot(range(30),val_acc,label='validation_accuracy')\n",
        "plt.legend(loc='upper right')\n",
        "plt.title('Accuracy compare')\n",
        "plt.subplot(1,2,2)\n",
        "plt.plot(range(30),loss,label='train_loss')\n",
        "plt.plot(range(30),val_loss,label='validation_loss')\n",
        "plt.legend(loc='upper left')\n",
        "plt.title('loss compare')"
      ],
      "metadata": {
        "id": "msOuPgmzapPH"
      },
      "execution_count": null,
      "outputs": []
    },
    {
      "cell_type": "code",
      "source": [
        "for img , lab in test_ds.take(1):\n",
        "  first_img=img[0].numpy().astype('uint8')\n",
        "  first_lab=lab[0].numpy()\n",
        "  plt.imshow(first_img)\n",
        "  print('actual_label:',classes[first_lab])\n",
        "  batch_prediction=model.predict(img)\n",
        "  print('predict_label:',classes[np.argmax(batch_prediction[0])])"
      ],
      "metadata": {
        "id": "ZEOIBiv4dPYP"
      },
      "execution_count": null,
      "outputs": []
    },
    {
      "cell_type": "code",
      "source": [
        "def predict(model,img):\n",
        "  img_array=keras.preprocessing.image.img_to_array(images[i].numpy())\n",
        "  img_array=tf.expand_dims(img_array,0)\n",
        "\n",
        "  img_predict=model.predict(img_array)\n",
        "  predict_class=classes[np.argmax(img_predict[0])]\n",
        "  confidence=round(100*(np.max(img_predict[0])),2)\n",
        "  return predict_class,confidence\n",
        "  "
      ],
      "metadata": {
        "id": "hWBzQzardeLH"
      },
      "execution_count": null,
      "outputs": []
    },
    {
      "cell_type": "code",
      "source": [
        "plt.figure(figsize=(20,20))\n",
        "for images,lab in test_ds.take(1):\n",
        "  for i in range(9):\n",
        "    ax=plt.subplot(3,3,i+1)\n",
        "    plt.imshow(images[i].numpy().astype('uint8'))\n",
        "    predicted_class,confidence=predict(model,images[i].numpy())\n",
        "    actual_lab=classes[lab[i]]\n",
        "    plt.title(f\"Actual label:{actual_lab}\\n Predict:{predicted_class}\\n Confidence:{confidence}\")\n",
        "    plt.axis('off')"
      ],
      "metadata": {
        "id": "eQSZxCeEdo7Y"
      },
      "execution_count": null,
      "outputs": []
    }
  ]
}