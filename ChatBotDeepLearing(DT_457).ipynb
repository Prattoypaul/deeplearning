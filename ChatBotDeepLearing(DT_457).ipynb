{
  "nbformat": 4,
  "nbformat_minor": 0,
  "metadata": {
    "colab": {
      "name": "ChatBotDeepLearing(DT-457).ipynb",
      "provenance": [],
      "mount_file_id": "1mhe5VPeh3yMzxPc3eRHDVnmZIe1Fb3dc",
      "authorship_tag": "ABX9TyPTkMW/sF9u8RNSc5XgL+wR",
      "include_colab_link": true
    },
    "kernelspec": {
      "name": "python3",
      "display_name": "Python 3"
    },
    "language_info": {
      "name": "python"
    },
    "accelerator": "GPU"
  },
  "cells": [
    {
      "cell_type": "markdown",
      "metadata": {
        "id": "view-in-github",
        "colab_type": "text"
      },
      "source": [
        "<a href=\"https://colab.research.google.com/github/Prattoypaul/deeplearning/blob/machinel/ChatBotDeepLearing(DT_457).ipynb\" target=\"_parent\"><img src=\"https://colab.research.google.com/assets/colab-badge.svg\" alt=\"Open In Colab\"/></a>"
      ]
    },
    {
      "cell_type": "code",
      "metadata": {
        "id": "5QCzkJtfbAou"
      },
      "source": [
        "import nltk\n",
        "from nltk.stem.porter import PorterStemmer"
      ],
      "execution_count": 2,
      "outputs": []
    },
    {
      "cell_type": "code",
      "metadata": {
        "id": "DCDEJ9NCbaWP"
      },
      "source": [
        "def tokenize(sentence):\n",
        "  return nltk.word_tokenize(sentence)"
      ],
      "execution_count": 3,
      "outputs": []
    },
    {
      "cell_type": "code",
      "metadata": {
        "id": "OME0F3-Ad1gN"
      },
      "source": [
        "stemmer=PorterStemmer()"
      ],
      "execution_count": 4,
      "outputs": []
    },
    {
      "cell_type": "code",
      "metadata": {
        "id": "63SpQDgic9F-"
      },
      "source": [
        "def stem(word):\n",
        "  return stemmer.stem(word.lower())"
      ],
      "execution_count": 5,
      "outputs": []
    },
    {
      "cell_type": "code",
      "metadata": {
        "id": "8IsIhpGueC6t"
      },
      "source": [
        "def bag_of_words(tokenized_sentence,all_words):\n",
        "  tokenized_sentence=[stem(w) for w in tokenized_sentence ]\n",
        "  bag=np.zeros(len(all_words),dtype=np.float32)\n",
        "  for indx,w in enumerate(all_words):\n",
        "    if w in tokenized_sentence:\n",
        "      bag[indx]=1.0\n",
        "  return bag"
      ],
      "execution_count": 6,
      "outputs": []
    },
    {
      "cell_type": "code",
      "metadata": {
        "colab": {
          "base_uri": "https://localhost:8080/"
        },
        "id": "XL-Su2nXlxtg",
        "outputId": "41ed7237-05f7-4ef0-bdfb-daa9b527f4c1"
      },
      "source": [
        "sen=['hlw','how','are','you']\n",
        "word=['hlw','is','how','my','are','dear','you']\n",
        "bg=bag_of_words(sen,word)\n",
        "bg"
      ],
      "execution_count": 7,
      "outputs": [
        {
          "output_type": "execute_result",
          "data": {
            "text/plain": [
              "array([1., 0., 1., 0., 1., 0., 1.], dtype=float32)"
            ]
          },
          "metadata": {},
          "execution_count": 7
        }
      ]
    },
    {
      "cell_type": "code",
      "metadata": {
        "colab": {
          "base_uri": "https://localhost:8080/"
        },
        "id": "OAcFxsdQhaTF",
        "outputId": "d5ce8b61-0e6b-4e92-fae3-5550b6c2bcc2"
      },
      "source": [
        "nltk.download('punkt')\n"
      ],
      "execution_count": 8,
      "outputs": [
        {
          "output_type": "stream",
          "name": "stdout",
          "text": [
            "[nltk_data] Downloading package punkt to /root/nltk_data...\n",
            "[nltk_data]   Unzipping tokenizers/punkt.zip.\n"
          ]
        },
        {
          "output_type": "execute_result",
          "data": {
            "text/plain": [
              "True"
            ]
          },
          "metadata": {},
          "execution_count": 8
        }
      ]
    },
    {
      "cell_type": "code",
      "metadata": {
        "colab": {
          "base_uri": "https://localhost:8080/"
        },
        "id": "d2q6PHclenEM",
        "outputId": "cdba02e2-80fe-4737-f687-e9d5c84bec23"
      },
      "source": [
        "a=\"How I can help you?\"\n",
        "print (a)"
      ],
      "execution_count": 9,
      "outputs": [
        {
          "output_type": "stream",
          "name": "stdout",
          "text": [
            "How I can help you?\n"
          ]
        }
      ]
    },
    {
      "cell_type": "code",
      "metadata": {
        "colab": {
          "base_uri": "https://localhost:8080/"
        },
        "id": "afzKTBBJigUZ",
        "outputId": "8346d4f2-16e3-4310-f910-1638cb3ea5ad"
      },
      "source": [
        "words=['Organize','Organizes','Organizing']\n",
        "stemmed_words = [stem(w) for w in words]\n",
        "print(stemmed_words)"
      ],
      "execution_count": 10,
      "outputs": [
        {
          "output_type": "stream",
          "name": "stdout",
          "text": [
            "['organ', 'organ', 'organ']\n"
          ]
        }
      ]
    },
    {
      "cell_type": "code",
      "metadata": {
        "id": "WPR4dTQ7YApe"
      },
      "source": [
        "import json"
      ],
      "execution_count": 11,
      "outputs": []
    },
    {
      "cell_type": "code",
      "metadata": {
        "id": "a--A2aR_YKKz"
      },
      "source": [
        "with open('/content/drive/MyDrive/Colab Notebooks/A==4 chatbot/intents.json','r' ) as f:\n",
        "  intents=json.load(f)\n"
      ],
      "execution_count": 12,
      "outputs": []
    },
    {
      "cell_type": "code",
      "metadata": {
        "colab": {
          "base_uri": "https://localhost:8080/"
        },
        "id": "9nNMr7-JajCa",
        "outputId": "eb86c7cf-6415-40b4-f569-29e95bf237bb"
      },
      "source": [
        "print(intents)"
      ],
      "execution_count": 13,
      "outputs": [
        {
          "output_type": "stream",
          "name": "stdout",
          "text": [
            "{'intents': [{'tag': 'greeting', 'patterns': ['Hi there', 'How are you', 'Is anyone there?', 'Hey', 'Hola', 'Hello', 'Good day'], 'responses': ['Hello, thanks for asking', 'Good to see you again', 'Hi there, how can I help?'], 'context': ['']}, {'tag': 'goodbye', 'patterns': ['Bye', 'See you later', 'Goodbye', 'Nice chatting to you, bye', 'Till next time'], 'responses': ['See you!', 'Have a nice day', 'Bye! Come back again soon.'], 'context': ['']}, {'tag': 'thanks', 'patterns': ['Thanks', 'Thank you', \"That's helpful\", 'Awesome, thanks', 'Thanks for helping me'], 'responses': ['Happy to help!', 'Any time!', 'My pleasure'], 'context': ['']}, {'tag': 'noanswer', 'patterns': [], 'responses': [\"Sorry, can't understand you\", 'Please give me more info', 'Not sure I understand'], 'context': ['']}, {'tag': 'options', 'patterns': ['How you could help me?', 'What help you provide?', 'How you can be helpful?'], 'responses': ['I can guide you through Adverse management problems, order tracking, person to be contacted and Department related queries', 'I can provide support related to following problems technical query,management related query,order related query,tracking related query,procurement query,outsourcing problem,manufacturing delay,'], 'context': ['']}, {'tag': 'order_tracking', 'patterns': ['where is order with id 431B67?', 'track order 562B78', 'Where is my order with id 561A24?'], 'responses': ['Delayed', 'Dispatched', 'On the Way!'], 'context': ['']}, {'tag': 'order_components', 'patterns': ['order id 345A23 comprises of?', 'List of components'], 'responses': ['order comprises of hardisk and bluetooth'], 'context': ['']}, {'tag': 'missing_id', 'patterns': ['where is the order', 'where is my order', 'locate the order', 'Delivery date of order'], 'responses': ['Please enter with order ID'], 'context': ['']}, {'tag': 'Location', 'patterns': ['find order location 32712', 'What is the Location of order 23A31?'], 'responses': ['It is in germany', 'It is in Berlin', 'It has reached china', 'It has reached Banglore'], 'context': ['']}, {'tag': 'search_person_by_id', 'patterns': ['I want an appoitment with Manoj kumar', 'set an appointment with Sujata Nandi'], 'responses': ['Fixing an appointment.'], 'context': ['']}, {'tag': 'appointment status', 'patterns': ['Is my appointment fixed?', 'Do I have an appointment today?'], 'responses': ['Yes', 'NO! Not Yet'], 'context': ['']}, {'tag': 'check_leave', 'patterns': ['Is Sujata Nandi on leave?', 'Is Manish Kumar on leave?'], 'responses': ['No Not On Leave', 'Yes On Leave'], 'context': ['']}, {'tag': 'cost_lowering', 'patterns': ['Cost Lowering changes to be made?', 'what changes could lower cost?'], 'responses': ['Increase Transportation capacity utilisation,Increase supply chain velocity,Reduce order variability'], 'context': ['']}, {'tag': 'forgot_password', 'patterns': ['I forgot my Login password?', 'what to do when someone forgets Login password?', 'I forgot my Laptop password', 'Forgot Wifi password'], 'responses': ['Please enter your email id ,we will send a link on your email'], 'context': ['']}, {'tag': 'email_id', 'patterns': ['abx@gmail.com', 'abc@kiit.ac.in'], 'responses': ['Link has been shared.Please change your password'], 'context': ['']}, {'tag': 'manufacturing_problems', 'patterns': ['Find me a manufacturer nearby'], 'responses': ['The nearest manufacturer is Vietnam'], 'context': ['']}, {'tag': 'search_department', 'patterns': ['I want to know the various departments in this company'], 'responses': ['The department are:Projects,IT,Production,OutSource'], 'context': ['']}, {'tag': 'competitors_in_market', 'patterns': ['what are challenging events', 'what are the threats in the market'], 'responses': ['Recent news of Demonetisation & recession'], 'context': ['']}, {'tag': 'key_customers', 'patterns': ['Our Target customers', 'who are your key customers'], 'responses': ['Our target customers are in the range of age 20-40'], 'context': ['']}, {'tag': 'supplier_info', 'patterns': ['What information is shared with supplier?'], 'responses': ['Production Schedule,Delivery Schedule,Proxy information about cost'], 'context': ['']}, {'tag': 'highest_grossing', 'patterns': ['What is the highest grossing product?'], 'responses': ['Laptop with touch sensors and 360 rotation'], 'context': ['']}, {'tag': 'connect_people', 'patterns': ['I want to meet the head of HR/IT/Projects department', 'I want to meet head IT Rakesh sharma.'], 'responses': ['I will just check if he is available or on leave.'], 'context': ['search_attendance_database_name_post']}, {'tag': 'project_handling_queries', 'patterns': ['complaint has been raised for Insufficient Team Skills', 'Miscommunication Conflicts needs to be resolved', 'Risk Management issue has occured', 'skilled employees needed urgently'], 'responses': ['Please contact the project depatment'], 'context': ['']}, {'tag': 'solve_problems', 'patterns': ['Lack of product clarity', 'the specifications of product is not clear to customer. what should we do'], 'responses': ['Please enter product id and customer id.specifications shall be sent to user'], 'context': ['']}, {'tag': 'version_update', 'patterns': ['user needs the updated software version', 'user demands software updation'], 'responses': ['version updation request raised'], 'context': ['']}, {'tag': 'HR_related_problem', 'patterns': ['problem related to Job design and analysis', 'query based on Workforce planning', 'Training and development issues are to be handled', 'Compensation and benefits of the working employee', 'Legal issues of department like accidents in the company'], 'responses': ['Please Contact the HR team for this problem.'], 'context': ['']}, {'tag': 'factors_impacting_sale', 'patterns': ['Impact on sale?', 'factors impacting sale this year?'], 'responses': ['elections will impact our sale this year', 'this year our sale might increase during durga puja', 'this year sale might be impacted due to demonitisation'], 'context': ['']}, {'tag': 'predict_performance', 'patterns': ['how have we improved our sale from last year?', 'what is the profit this year?'], 'responses': ['we have improved our sale by increasing our customers upto 2 lakh', 'profit earned is 15%'], 'context': ['']}, {'tag': 'customer_satisfaction', 'patterns': ['how was the customer response', 'Is the customer happy?', 'what was the customer feedback?'], 'responses': ['Customer was happy and has given good rating'], 'context': ['']}, {'tag': 'maintainence', 'patterns': ['maintainence related queries recorded'], 'responses': ['lift is not working, projector misfuctioning'], 'context': ['']}, {'tag': 'gadgets', 'patterns': ['what are the gadgets in stock?', 'which products we have?'], 'responses': ['hardisk,pendrives, wireless bluetooth,Laptops,Gaming Accessories'], 'context': ['']}, {'tag': 'commission', 'patterns': ['what is the Commission rate?', 'Commission rate on each product?'], 'responses': ['Commission rate is 5% on laptops,25%on bluetooth device,10% on Desktop'], 'context': ['']}, {'tag': 'invalid', 'patterns': ['Marry me', 'I love You', 'date me', 'chat with me', 'I am bored'], 'responses': ['Please ask organisation related query.'], 'context': ['']}, {'tag': 'noans', 'patterns': ['why', 'how', 'when', 'I', 'you'], 'responses': [\"Can't Understand Your Question\", 'please elaborate your question'], 'context': ['']}, {'tag': 'turnover', 'patterns': ['what is the turnover of the company at present?'], 'responses': ['10 Million Ton'], 'context': ['']}, {'tag': 'predict_delay', 'patterns': ['why is order 23A12 delayed'], 'responses': ['delay is due to manufacuring', 'Delay is due to inavailable components'], 'context': ['']}, {'tag': 'predict_delay', 'patterns': ['why is order 23A12 delayed'], 'responses': ['delay is due to manufacuring', 'Delay is due to inavailable components'], 'context': ['']}, {'tag': 'name', 'patterns': ['what is your name?', 'what should I call you?'], 'responses': [\"I'm Bruno\", \"Hey!I'm Bruno\"], 'context': ['']}, {'tag': 'about', 'patterns': ['how you doing?', 'how are you'], 'responses': ['Thanks For Asking!How can I help you?'], 'context': ['']}, {'tag': 'configuration', 'patterns': ['How to configure my laptop', 'software configuration of laptop', 'steps to configure laptop', 'How to configure my computer', 'software configuration of computer', 'steps to configure computer', 'How to configure my desktop', 'software configuration of desktop', 'steps to configure desktop'], 'responses': ['search tab->control panel->select specific application->download update->give permission'], 'context': ['']}, {'tag': 'Weather', 'patterns': ['what is the weather today?'], 'responses': [\"It's 36C according to accuweather\"], 'context': ['']}, {'tag': 'leave', 'patterns': ['Is Michel Sharma on leave?', 'Is Siddhart Roy present today?', 'Is Shantanu Bhatt in office?'], 'responses': [\"Give me a moment!I'll just check\", 'yes', 'no'], 'context': ['']}, {'tag': 'hours', 'patterns': ['Opening hours of the cafeteria?', 'when does the cafeteria open', 'office canteen opening time'], 'responses': ['It is open from Monday-Saturday 9:00am-7:30pm'], 'context': ['']}, {'tag': 'cabin', 'patterns': ['where is VP cabin?', 'Where is Head IT cabin?', 'Where is AI department', 'Where is Project head department?', 'where is cafeteria', 'guide me to the canteen'], 'responses': ['Block-A 3rd floor 1st room', 'Block-B 2nd Floor', 'Block-D Ground Floor'], 'context': ['']}, {'tag': 'domain', 'patterns': ['How to improve team members domain knowledge', 'improving domain knowledge of team members'], 'responses': ['set up key meetings and workshop,create a shared drive for information,Hold informal sharing session'], 'context': ['']}]}\n"
          ]
        }
      ]
    },
    {
      "cell_type": "code",
      "metadata": {
        "id": "JJyFdNVMa-jJ"
      },
      "source": [
        "all_words= []\n",
        "tags= []\n",
        "xy=[]\n",
        "for intent in intents['intents']:\n",
        "  tag=intent['tag']\n",
        "  tags.append(tag)\n",
        "  for pattern in intent['patterns']:\n",
        "    w=tokenize(pattern)\n",
        "    all_words.extend(w)\n",
        "    xy.append((w,tag))"
      ],
      "execution_count": 14,
      "outputs": []
    },
    {
      "cell_type": "code",
      "metadata": {
        "colab": {
          "base_uri": "https://localhost:8080/"
        },
        "id": "Pz220-rSdbc6",
        "outputId": "44037c07-9450-4873-c48c-383c639805fa"
      },
      "source": [
        "ignore_word=['!',',','?','.']\n",
        "print(all_words)\n",
        "print(tags)\n"
      ],
      "execution_count": 15,
      "outputs": [
        {
          "output_type": "stream",
          "name": "stdout",
          "text": [
            "['Hi', 'there', 'How', 'are', 'you', 'Is', 'anyone', 'there', '?', 'Hey', 'Hola', 'Hello', 'Good', 'day', 'Bye', 'See', 'you', 'later', 'Goodbye', 'Nice', 'chatting', 'to', 'you', ',', 'bye', 'Till', 'next', 'time', 'Thanks', 'Thank', 'you', 'That', \"'s\", 'helpful', 'Awesome', ',', 'thanks', 'Thanks', 'for', 'helping', 'me', 'How', 'you', 'could', 'help', 'me', '?', 'What', 'help', 'you', 'provide', '?', 'How', 'you', 'can', 'be', 'helpful', '?', 'where', 'is', 'order', 'with', 'id', '431B67', '?', 'track', 'order', '562B78', 'Where', 'is', 'my', 'order', 'with', 'id', '561A24', '?', 'order', 'id', '345A23', 'comprises', 'of', '?', 'List', 'of', 'components', 'where', 'is', 'the', 'order', 'where', 'is', 'my', 'order', 'locate', 'the', 'order', 'Delivery', 'date', 'of', 'order', 'find', 'order', 'location', '32712', 'What', 'is', 'the', 'Location', 'of', 'order', '23A31', '?', 'I', 'want', 'an', 'appoitment', 'with', 'Manoj', 'kumar', 'set', 'an', 'appointment', 'with', 'Sujata', 'Nandi', 'Is', 'my', 'appointment', 'fixed', '?', 'Do', 'I', 'have', 'an', 'appointment', 'today', '?', 'Is', 'Sujata', 'Nandi', 'on', 'leave', '?', 'Is', 'Manish', 'Kumar', 'on', 'leave', '?', 'Cost', 'Lowering', 'changes', 'to', 'be', 'made', '?', 'what', 'changes', 'could', 'lower', 'cost', '?', 'I', 'forgot', 'my', 'Login', 'password', '?', 'what', 'to', 'do', 'when', 'someone', 'forgets', 'Login', 'password', '?', 'I', 'forgot', 'my', 'Laptop', 'password', 'Forgot', 'Wifi', 'password', 'abx', '@', 'gmail.com', 'abc', '@', 'kiit.ac.in', 'Find', 'me', 'a', 'manufacturer', 'nearby', 'I', 'want', 'to', 'know', 'the', 'various', 'departments', 'in', 'this', 'company', 'what', 'are', 'challenging', 'events', 'what', 'are', 'the', 'threats', 'in', 'the', 'market', 'Our', 'Target', 'customers', 'who', 'are', 'your', 'key', 'customers', 'What', 'information', 'is', 'shared', 'with', 'supplier', '?', 'What', 'is', 'the', 'highest', 'grossing', 'product', '?', 'I', 'want', 'to', 'meet', 'the', 'head', 'of', 'HR/IT/Projects', 'department', 'I', 'want', 'to', 'meet', 'head', 'IT', 'Rakesh', 'sharma', '.', 'complaint', 'has', 'been', 'raised', 'for', 'Insufficient', 'Team', 'Skills', 'Miscommunication', 'Conflicts', 'needs', 'to', 'be', 'resolved', 'Risk', 'Management', 'issue', 'has', 'occured', 'skilled', 'employees', 'needed', 'urgently', 'Lack', 'of', 'product', 'clarity', 'the', 'specifications', 'of', 'product', 'is', 'not', 'clear', 'to', 'customer', '.', 'what', 'should', 'we', 'do', 'user', 'needs', 'the', 'updated', 'software', 'version', 'user', 'demands', 'software', 'updation', 'problem', 'related', 'to', 'Job', 'design', 'and', 'analysis', 'query', 'based', 'on', 'Workforce', 'planning', 'Training', 'and', 'development', 'issues', 'are', 'to', 'be', 'handled', 'Compensation', 'and', 'benefits', 'of', 'the', 'working', 'employee', 'Legal', 'issues', 'of', 'department', 'like', 'accidents', 'in', 'the', 'company', 'Impact', 'on', 'sale', '?', 'factors', 'impacting', 'sale', 'this', 'year', '?', 'how', 'have', 'we', 'improved', 'our', 'sale', 'from', 'last', 'year', '?', 'what', 'is', 'the', 'profit', 'this', 'year', '?', 'how', 'was', 'the', 'customer', 'response', 'Is', 'the', 'customer', 'happy', '?', 'what', 'was', 'the', 'customer', 'feedback', '?', 'maintainence', 'related', 'queries', 'recorded', 'what', 'are', 'the', 'gadgets', 'in', 'stock', '?', 'which', 'products', 'we', 'have', '?', 'what', 'is', 'the', 'Commission', 'rate', '?', 'Commission', 'rate', 'on', 'each', 'product', '?', 'Marry', 'me', 'I', 'love', 'You', 'date', 'me', 'chat', 'with', 'me', 'I', 'am', 'bored', 'why', 'how', 'when', 'I', 'you', 'what', 'is', 'the', 'turnover', 'of', 'the', 'company', 'at', 'present', '?', 'why', 'is', 'order', '23A12', 'delayed', 'why', 'is', 'order', '23A12', 'delayed', 'what', 'is', 'your', 'name', '?', 'what', 'should', 'I', 'call', 'you', '?', 'how', 'you', 'doing', '?', 'how', 'are', 'you', 'How', 'to', 'configure', 'my', 'laptop', 'software', 'configuration', 'of', 'laptop', 'steps', 'to', 'configure', 'laptop', 'How', 'to', 'configure', 'my', 'computer', 'software', 'configuration', 'of', 'computer', 'steps', 'to', 'configure', 'computer', 'How', 'to', 'configure', 'my', 'desktop', 'software', 'configuration', 'of', 'desktop', 'steps', 'to', 'configure', 'desktop', 'what', 'is', 'the', 'weather', 'today', '?', 'Is', 'Michel', 'Sharma', 'on', 'leave', '?', 'Is', 'Siddhart', 'Roy', 'present', 'today', '?', 'Is', 'Shantanu', 'Bhatt', 'in', 'office', '?', 'Opening', 'hours', 'of', 'the', 'cafeteria', '?', 'when', 'does', 'the', 'cafeteria', 'open', 'office', 'canteen', 'opening', 'time', 'where', 'is', 'VP', 'cabin', '?', 'Where', 'is', 'Head', 'IT', 'cabin', '?', 'Where', 'is', 'AI', 'department', 'Where', 'is', 'Project', 'head', 'department', '?', 'where', 'is', 'cafeteria', 'guide', 'me', 'to', 'the', 'canteen', 'How', 'to', 'improve', 'team', 'members', 'domain', 'knowledge', 'improving', 'domain', 'knowledge', 'of', 'team', 'members']\n",
            "['greeting', 'goodbye', 'thanks', 'noanswer', 'options', 'order_tracking', 'order_components', 'missing_id', 'Location', 'search_person_by_id', 'appointment status', 'check_leave', 'cost_lowering', 'forgot_password', 'email_id', 'manufacturing_problems', 'search_department', 'competitors_in_market', 'key_customers', 'supplier_info', 'highest_grossing', 'connect_people', 'project_handling_queries', 'solve_problems', 'version_update', 'HR_related_problem', 'factors_impacting_sale', 'predict_performance', 'customer_satisfaction', 'maintainence', 'gadgets', 'commission', 'invalid', 'noans', 'turnover', 'predict_delay', 'predict_delay', 'name', 'about', 'configuration', 'Weather', 'leave', 'hours', 'cabin', 'domain']\n"
          ]
        }
      ]
    },
    {
      "cell_type": "code",
      "metadata": {
        "colab": {
          "base_uri": "https://localhost:8080/"
        },
        "id": "iSNpmB8RetGY",
        "outputId": "2bdd7fa0-6b87-4d3d-c263-5b442bb65f9a"
      },
      "source": [
        "all_words=[stem(w) for w in all_words if  w not in ignore_word]\n",
        "all_words=sorted(set(all_words))\n",
        "tags=sorted(set(tags))\n",
        "print(tags)"
      ],
      "execution_count": 16,
      "outputs": [
        {
          "output_type": "stream",
          "name": "stdout",
          "text": [
            "['HR_related_problem', 'Location', 'Weather', 'about', 'appointment status', 'cabin', 'check_leave', 'commission', 'competitors_in_market', 'configuration', 'connect_people', 'cost_lowering', 'customer_satisfaction', 'domain', 'email_id', 'factors_impacting_sale', 'forgot_password', 'gadgets', 'goodbye', 'greeting', 'highest_grossing', 'hours', 'invalid', 'key_customers', 'leave', 'maintainence', 'manufacturing_problems', 'missing_id', 'name', 'noans', 'noanswer', 'options', 'order_components', 'order_tracking', 'predict_delay', 'predict_performance', 'project_handling_queries', 'search_department', 'search_person_by_id', 'solve_problems', 'supplier_info', 'thanks', 'turnover', 'version_update']\n"
          ]
        }
      ]
    },
    {
      "cell_type": "code",
      "metadata": {
        "id": "PC8qU02QgNPT"
      },
      "source": [
        "xtrain=[]\n",
        "ytrain=[]"
      ],
      "execution_count": 17,
      "outputs": []
    },
    {
      "cell_type": "code",
      "metadata": {
        "id": "hsxIJ6CNgSsu"
      },
      "source": [
        "for (pattern_sentence,tag) in xy:\n",
        "  bag=bag_of_words(pattern_sentence,all_words)\n",
        "  xtrain.append(bag)\n",
        "  label=tags.index(tag)\n",
        "  ytrain.append(label)\n"
      ],
      "execution_count": 18,
      "outputs": []
    },
    {
      "cell_type": "code",
      "metadata": {
        "id": "DHV9EpKSh3cg"
      },
      "source": [
        "import numpy as np"
      ],
      "execution_count": 19,
      "outputs": []
    },
    {
      "cell_type": "code",
      "metadata": {
        "id": "hFmayo5hiNxA"
      },
      "source": [
        "xtrain=np.array(xtrain)\n",
        "ytrain=np.array(ytrain)"
      ],
      "execution_count": 20,
      "outputs": []
    },
    {
      "cell_type": "code",
      "metadata": {
        "id": "z3c2FtC9mwLB"
      },
      "source": [
        "import torch\n",
        "import torch.nn as nn\n",
        "from torch.utils.data import Dataset,DataLoader"
      ],
      "execution_count": 21,
      "outputs": []
    },
    {
      "cell_type": "code",
      "metadata": {
        "id": "X3yLYkx1naBu"
      },
      "source": [
        "class ChatDataset(Dataset):\n",
        "  def __init__(self):\n",
        "    self.n_samples = len(xtrain)\n",
        "    self.x_data=xtrain\n",
        "    self.y_data=ytrain\n",
        "\n",
        "  def __getitem__(self,index):\n",
        "    return self.x_data[index],self.y_data[index]\n",
        "  def __len__(self):\n",
        "    return self.n_samples"
      ],
      "execution_count": 22,
      "outputs": []
    },
    {
      "cell_type": "code",
      "metadata": {
        "id": "qWHm86ILpW4v"
      },
      "source": [
        "dataset=ChatDataset()\n",
        "batch=8\n"
      ],
      "execution_count": 23,
      "outputs": []
    },
    {
      "cell_type": "code",
      "metadata": {
        "id": "2R0YlALrpvRu"
      },
      "source": [
        "train_loader=DataLoader(dataset=dataset,batch_size=batch,shuffle=True,num_workers=2)"
      ],
      "execution_count": 24,
      "outputs": []
    },
    {
      "cell_type": "code",
      "metadata": {
        "id": "l2ZKIS1RqcJH"
      },
      "source": [
        "class NeuralNet(nn.Module):\n",
        "  def __init__(self,input_size,hide_size,num_class):\n",
        "    super(NeuralNet,self).__init__()\n",
        "    self.l1=nn.Linear(input_size,hide_size)\n",
        "    self.l2=nn.Linear(hide_size,hide_size)\n",
        "    self.l3=nn.Linear(hide_size,num_class)\n",
        "    self.relu=nn.ReLU()\n",
        "\n",
        "  def forward(self, x):\n",
        "    out =self.l1(x)\n",
        "    out =self.relu(out)\n",
        "    out =self.l2(out)\n",
        "    out =self.relu(out)\n",
        "    out =self.l3(out)\n",
        "\n",
        "\n",
        "    return out\n",
        "    "
      ],
      "execution_count": 25,
      "outputs": []
    },
    {
      "cell_type": "code",
      "metadata": {
        "id": "SnCz3U2yMz9K"
      },
      "source": [
        "output_size=len(tags)\n",
        "hide_size=8\n",
        "input_size=len(xtrain[0])"
      ],
      "execution_count": 26,
      "outputs": []
    },
    {
      "cell_type": "code",
      "metadata": {
        "colab": {
          "base_uri": "https://localhost:8080/"
        },
        "id": "tgk0OAtZOO5t",
        "outputId": "a0c70673-d2cf-4515-b4d0-bf197c866b07"
      },
      "source": [
        "output_size"
      ],
      "execution_count": 27,
      "outputs": [
        {
          "output_type": "execute_result",
          "data": {
            "text/plain": [
              "44"
            ]
          },
          "metadata": {},
          "execution_count": 27
        }
      ]
    },
    {
      "cell_type": "code",
      "metadata": {
        "id": "xfAzFtGgDfrd"
      },
      "source": [
        "model=NeuralNet(input_size,hide_size,output_size)"
      ],
      "execution_count": 28,
      "outputs": []
    },
    {
      "cell_type": "code",
      "metadata": {
        "id": "Iz5LTMXzOT0E"
      },
      "source": [
        "criterion=nn.CrossEntropyLoss()\n",
        "optimizer=torch.optim.Adam(model.parameters(),lr=0.001)"
      ],
      "execution_count": 29,
      "outputs": []
    },
    {
      "cell_type": "code",
      "metadata": {
        "id": "DvO-FllkhHVN"
      },
      "source": [
        "num_epochs=1000"
      ],
      "execution_count": 30,
      "outputs": []
    },
    {
      "cell_type": "code",
      "metadata": {
        "colab": {
          "base_uri": "https://localhost:8080/"
        },
        "id": "dmpZ83fSQ1rm",
        "outputId": "48ff159a-eca3-4103-eee6-726a1bb50ae9"
      },
      "source": [
        "for epoch in range(num_epochs):\n",
        "  for (words,labels) in train_loader:\n",
        "    outputs=model(words)\n",
        "    loss=criterion(outputs,labels)\n",
        "    optimizer.zero_grad()\n",
        "    loss.backward()\n",
        "    optimizer.step()\n",
        "  if (epoch+1)%100==0:\n",
        "    print(f'epoch {epoch+1}/{num_epochs},loss={loss.item():4f}')"
      ],
      "execution_count": 31,
      "outputs": [
        {
          "output_type": "stream",
          "name": "stdout",
          "text": [
            "epoch 100/1000,loss=0.055353\n",
            "epoch 200/1000,loss=0.004587\n",
            "epoch 300/1000,loss=0.000782\n",
            "epoch 400/1000,loss=0.003302\n",
            "epoch 500/1000,loss=0.000499\n",
            "epoch 600/1000,loss=0.000088\n",
            "epoch 700/1000,loss=0.000016\n",
            "epoch 800/1000,loss=0.000028\n",
            "epoch 900/1000,loss=0.000004\n",
            "epoch 1000/1000,loss=0.758989\n"
          ]
        }
      ]
    },
    {
      "cell_type": "code",
      "metadata": {
        "colab": {
          "base_uri": "https://localhost:8080/"
        },
        "id": "0SO_uRtpifY1",
        "outputId": "f8c245fa-ea02-46c7-afc5-866cc86bdda8"
      },
      "source": [
        "print(f'final loss,loss={loss.item():4f}')"
      ],
      "execution_count": 32,
      "outputs": [
        {
          "output_type": "stream",
          "name": "stdout",
          "text": [
            "final loss,loss=0.758989\n"
          ]
        }
      ]
    },
    {
      "cell_type": "code",
      "metadata": {
        "id": "-_wQ84HgCjNX"
      },
      "source": [
        "data={\n",
        "    'model_state': model.state_dict(),\n",
        "    'input_size':input_size,\n",
        "    'output_size':output_size,\n",
        "    'hidden_size':hide_size,\n",
        "    'all_words':all_words,\n",
        "    'tags':tags \n",
        "}"
      ],
      "execution_count": 33,
      "outputs": []
    },
    {
      "cell_type": "code",
      "metadata": {
        "id": "oTFyvDBoD1d0"
      },
      "source": [
        "File='data.pth'\n",
        "torch.save(data,f'/content/drive/MyDrive/Colab Notebooks/A==4 chatbot/{File}')"
      ],
      "execution_count": 39,
      "outputs": []
    },
    {
      "cell_type": "code",
      "metadata": {
        "id": "UjMjIlOLGFi8"
      },
      "source": [
        "import random"
      ],
      "execution_count": 40,
      "outputs": []
    },
    {
      "cell_type": "code",
      "metadata": {
        "id": "_1OoAtVfGXyJ"
      },
      "source": [
        "with open('/content/drive/MyDrive/Colab Notebooks/A==4 chatbot/intents.json','r') as f:\n",
        "  intents=json.load(f)\n",
        "\n",
        "\n"
      ],
      "execution_count": 41,
      "outputs": []
    },
    {
      "cell_type": "code",
      "metadata": {
        "id": "bdRusd1bHE9Q"
      },
      "source": [
        "data=torch.load('/content/drive/MyDrive/Colab Notebooks/A==4 chatbot/data.pth')"
      ],
      "execution_count": 42,
      "outputs": []
    },
    {
      "cell_type": "code",
      "metadata": {
        "id": "wPdK17KSHZHh"
      },
      "source": [
        "input_size=data['input_size']\n",
        "hidden_size=data['hidden_size']\n",
        "output_size=data['output_size']\n",
        "all_words=data['all_words']\n",
        "tags=data['tags']\n",
        "model_state=data['model_state']"
      ],
      "execution_count": 43,
      "outputs": []
    },
    {
      "cell_type": "code",
      "metadata": {
        "colab": {
          "base_uri": "https://localhost:8080/"
        },
        "id": "AsrBuh9pIVFJ",
        "outputId": "c549f7bd-d8c1-4d82-fbf8-cdd9a912bf2c"
      },
      "source": [
        "model=NeuralNet(input_size,hidden_size,output_size)\n",
        "model.load_state_dict(model_state)\n",
        "model.eval()"
      ],
      "execution_count": 44,
      "outputs": [
        {
          "output_type": "execute_result",
          "data": {
            "text/plain": [
              "NeuralNet(\n",
              "  (l1): Linear(in_features=224, out_features=8, bias=True)\n",
              "  (l2): Linear(in_features=8, out_features=8, bias=True)\n",
              "  (l3): Linear(in_features=8, out_features=44, bias=True)\n",
              "  (relu): ReLU()\n",
              ")"
            ]
          },
          "metadata": {},
          "execution_count": 44
        }
      ]
    },
    {
      "cell_type": "code",
      "metadata": {
        "colab": {
          "base_uri": "https://localhost:8080/"
        },
        "id": "FHfcFUJDLwvY",
        "outputId": "2bda3412-793b-4cf0-bf96-a3f1cfc4c9bb"
      },
      "source": [
        "bot_name=\"Panda\"\n",
        "print(\"let's chat ! type 'quit' to exit\")\n",
        "while True:\n",
        "  sentence=input(\"You : \")\n",
        "  if sentence == 'quit':\n",
        "    print(f\"{bot_name}: See later:)\")\n",
        "    break\n",
        "  sentence=tokenize(sentence)\n",
        "  X=bag_of_words(sentence,all_words)\n",
        "  X=X.reshape(1,X.shape[0])\n",
        "  X=torch.from_numpy(X)\n",
        "  output=model(X)\n",
        "  _,predicted=torch.max(output,dim=1)\n",
        "  tag=tags[predicted.item()]\n",
        "\n",
        "  \n",
        "\n",
        "  pros=torch.softmax(output,dim=1)\n",
        "  prob=pros[0][predicted.item()]\n",
        "  if prob.item()>0.75:\n",
        "    for intent in intents['intents']:\n",
        "      if tag == intent['tag']:\n",
        "        print(f\"{bot_name}: {random.choice(intent['responses'])}\")\n",
        "  else:\n",
        "    print(f\"{bot_name}: Sorry! I don't understand\")"
      ],
      "execution_count": 50,
      "outputs": [
        {
          "output_type": "stream",
          "name": "stdout",
          "text": [
            "let's chat ! type 'quit' to exit\n",
            "You : hey\n",
            "Panda: Hi there, how can I help?\n",
            "You : what do you sell\n",
            "Panda: Thanks For Asking!How can I help you?\n",
            "You : what is your service\n",
            "Panda: Can't Understand Your Question\n",
            "You : quit\n",
            "Panda: See later:)\n"
          ]
        }
      ]
    }
  ]
}