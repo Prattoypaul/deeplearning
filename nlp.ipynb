{
  "nbformat": 4,
  "nbformat_minor": 0,
  "metadata": {
    "colab": {
      "name": "nlp.ipynb",
      "provenance": [],
      "mount_file_id": "1B_dGEP0msvKgmZfBsGIqNSwp9KEvRPCJ",
      "authorship_tag": "ABX9TyOZ8yqFIHTsgWhjuRWr0DdI",
      "include_colab_link": true
    },
    "kernelspec": {
      "name": "python3",
      "display_name": "Python 3"
    },
    "language_info": {
      "name": "python"
    }
  },
  "cells": [
    {
      "cell_type": "markdown",
      "metadata": {
        "id": "view-in-github",
        "colab_type": "text"
      },
      "source": [
        "<a href=\"https://colab.research.google.com/github/Prattoypaul/deeplearning/blob/machinel/nlp.ipynb\" target=\"_parent\"><img src=\"https://colab.research.google.com/assets/colab-badge.svg\" alt=\"Open In Colab\"/></a>"
      ]
    },
    {
      "cell_type": "code",
      "execution_count": 1,
      "metadata": {
        "id": "DmR9etnRZNJL"
      },
      "outputs": [],
      "source": [
        "import spacy"
      ]
    },
    {
      "cell_type": "code",
      "source": [
        "nlp=spacy.blank('bn')"
      ],
      "metadata": {
        "id": "enm3eq8IZfWc"
      },
      "execution_count": 2,
      "outputs": []
    },
    {
      "cell_type": "code",
      "source": [
        "doc=nlp('আমার মন মজাইয়ারেদিল মজাইয়া, মুর্শিদনিজের দেশে যাও')"
      ],
      "metadata": {
        "id": "NGQmAt2wZswh"
      },
      "execution_count": 3,
      "outputs": []
    },
    {
      "cell_type": "code",
      "source": [
        "for token in doc:\n",
        "  print(token)"
      ],
      "metadata": {
        "colab": {
          "base_uri": "https://localhost:8080/"
        },
        "id": "0cux19JKaFJy",
        "outputId": "36d691d3-b475-4752-bc1e-2c0ebb7456d5"
      },
      "execution_count": 4,
      "outputs": [
        {
          "output_type": "stream",
          "name": "stdout",
          "text": [
            "আমার\n",
            "মন\n",
            "মজাইয়ারেদিল\n",
            "মজাইয়া\n",
            ",\n",
            "মুর্শিদনিজের\n",
            "দেশে\n",
            "যাও\n"
          ]
        }
      ]
    },
    {
      "cell_type": "code",
      "source": [
        "doc=nlp('মন দুই ৳ ভালা না রে তোরপিরিত ভালা না রে বন্ধু ।।তোর প্রেমে পাগল হইয়া হইলাম কুলহার।')"
      ],
      "metadata": {
        "id": "2I6NFM71dDGw"
      },
      "execution_count": 5,
      "outputs": []
    },
    {
      "cell_type": "code",
      "source": [
        "token0=doc[0]"
      ],
      "metadata": {
        "id": "G0M7NNVndKUp"
      },
      "execution_count": 6,
      "outputs": []
    },
    {
      "cell_type": "code",
      "source": [
        "token0"
      ],
      "metadata": {
        "colab": {
          "base_uri": "https://localhost:8080/"
        },
        "id": "GW_QQ4G_dSpC",
        "outputId": "6f9ca16b-6223-4199-fdf1-9f813a99062a"
      },
      "execution_count": 7,
      "outputs": [
        {
          "output_type": "execute_result",
          "data": {
            "text/plain": [
              "মন"
            ]
          },
          "metadata": {},
          "execution_count": 7
        }
      ]
    },
    {
      "cell_type": "code",
      "source": [
        "dir(token0)"
      ],
      "metadata": {
        "colab": {
          "base_uri": "https://localhost:8080/"
        },
        "id": "RVJVZeyDdaRi",
        "outputId": "7397dfb3-0304-4a7a-95b1-d0d2dd04b2d0"
      },
      "execution_count": 8,
      "outputs": [
        {
          "output_type": "execute_result",
          "data": {
            "text/plain": [
              "['_',\n",
              " '__bytes__',\n",
              " '__class__',\n",
              " '__delattr__',\n",
              " '__dir__',\n",
              " '__doc__',\n",
              " '__eq__',\n",
              " '__format__',\n",
              " '__ge__',\n",
              " '__getattribute__',\n",
              " '__gt__',\n",
              " '__hash__',\n",
              " '__init__',\n",
              " '__init_subclass__',\n",
              " '__le__',\n",
              " '__len__',\n",
              " '__lt__',\n",
              " '__ne__',\n",
              " '__new__',\n",
              " '__pyx_vtable__',\n",
              " '__reduce__',\n",
              " '__reduce_ex__',\n",
              " '__repr__',\n",
              " '__setattr__',\n",
              " '__sizeof__',\n",
              " '__str__',\n",
              " '__subclasshook__',\n",
              " '__unicode__',\n",
              " 'ancestors',\n",
              " 'check_flag',\n",
              " 'children',\n",
              " 'cluster',\n",
              " 'conjuncts',\n",
              " 'dep',\n",
              " 'dep_',\n",
              " 'doc',\n",
              " 'ent_id',\n",
              " 'ent_id_',\n",
              " 'ent_iob',\n",
              " 'ent_iob_',\n",
              " 'ent_kb_id',\n",
              " 'ent_kb_id_',\n",
              " 'ent_type',\n",
              " 'ent_type_',\n",
              " 'get_extension',\n",
              " 'has_extension',\n",
              " 'has_vector',\n",
              " 'head',\n",
              " 'i',\n",
              " 'idx',\n",
              " 'is_alpha',\n",
              " 'is_ancestor',\n",
              " 'is_ascii',\n",
              " 'is_bracket',\n",
              " 'is_currency',\n",
              " 'is_digit',\n",
              " 'is_left_punct',\n",
              " 'is_lower',\n",
              " 'is_oov',\n",
              " 'is_punct',\n",
              " 'is_quote',\n",
              " 'is_right_punct',\n",
              " 'is_sent_start',\n",
              " 'is_space',\n",
              " 'is_stop',\n",
              " 'is_title',\n",
              " 'is_upper',\n",
              " 'lang',\n",
              " 'lang_',\n",
              " 'left_edge',\n",
              " 'lefts',\n",
              " 'lemma',\n",
              " 'lemma_',\n",
              " 'lex_id',\n",
              " 'like_email',\n",
              " 'like_num',\n",
              " 'like_url',\n",
              " 'lower',\n",
              " 'lower_',\n",
              " 'morph',\n",
              " 'n_lefts',\n",
              " 'n_rights',\n",
              " 'nbor',\n",
              " 'norm',\n",
              " 'norm_',\n",
              " 'orth',\n",
              " 'orth_',\n",
              " 'pos',\n",
              " 'pos_',\n",
              " 'prefix',\n",
              " 'prefix_',\n",
              " 'prob',\n",
              " 'rank',\n",
              " 'remove_extension',\n",
              " 'right_edge',\n",
              " 'rights',\n",
              " 'sent',\n",
              " 'sent_start',\n",
              " 'sentiment',\n",
              " 'set_extension',\n",
              " 'shape',\n",
              " 'shape_',\n",
              " 'similarity',\n",
              " 'string',\n",
              " 'subtree',\n",
              " 'suffix',\n",
              " 'suffix_',\n",
              " 'tag',\n",
              " 'tag_',\n",
              " 'tensor',\n",
              " 'text',\n",
              " 'text_with_ws',\n",
              " 'vector',\n",
              " 'vector_norm',\n",
              " 'vocab',\n",
              " 'whitespace_']"
            ]
          },
          "metadata": {},
          "execution_count": 8
        }
      ]
    },
    {
      "cell_type": "code",
      "source": [
        "type(token0)"
      ],
      "metadata": {
        "colab": {
          "base_uri": "https://localhost:8080/"
        },
        "id": "Hk7eD2xHdhla",
        "outputId": "4f72891e-a5f0-417d-f32d-02f069f6c6bc"
      },
      "execution_count": 9,
      "outputs": [
        {
          "output_type": "execute_result",
          "data": {
            "text/plain": [
              "spacy.tokens.token.Token"
            ]
          },
          "metadata": {},
          "execution_count": 9
        }
      ]
    },
    {
      "cell_type": "code",
      "source": [
        "token0.is_alpha"
      ],
      "metadata": {
        "colab": {
          "base_uri": "https://localhost:8080/"
        },
        "id": "pNMDkD-JdvDE",
        "outputId": "d58681b0-6bcc-4560-b5ea-5d9a0b8bd759"
      },
      "execution_count": 10,
      "outputs": [
        {
          "output_type": "execute_result",
          "data": {
            "text/plain": [
              "True"
            ]
          },
          "metadata": {},
          "execution_count": 10
        }
      ]
    },
    {
      "cell_type": "code",
      "source": [
        "token0.like_num"
      ],
      "metadata": {
        "colab": {
          "base_uri": "https://localhost:8080/"
        },
        "id": "dBSvWigCd2Jj",
        "outputId": "289729b1-ffb7-40ca-d0f6-b6bb889afca1"
      },
      "execution_count": 11,
      "outputs": [
        {
          "output_type": "execute_result",
          "data": {
            "text/plain": [
              "False"
            ]
          },
          "metadata": {},
          "execution_count": 11
        }
      ]
    },
    {
      "cell_type": "code",
      "source": [
        "token1=doc[1]\n",
        "token1"
      ],
      "metadata": {
        "colab": {
          "base_uri": "https://localhost:8080/"
        },
        "id": "nFg8QSdQeeaK",
        "outputId": "6fa962a2-0047-49a4-9d6d-6b4d30d2ca99"
      },
      "execution_count": 12,
      "outputs": [
        {
          "output_type": "execute_result",
          "data": {
            "text/plain": [
              "দুই"
            ]
          },
          "metadata": {},
          "execution_count": 12
        }
      ]
    },
    {
      "cell_type": "code",
      "source": [
        "token1.like_num"
      ],
      "metadata": {
        "colab": {
          "base_uri": "https://localhost:8080/"
        },
        "id": "VHY1XQWJekgZ",
        "outputId": "42db12d9-b58b-4cc4-86f3-2d572a47a9ab"
      },
      "execution_count": 13,
      "outputs": [
        {
          "output_type": "execute_result",
          "data": {
            "text/plain": [
              "False"
            ]
          },
          "metadata": {},
          "execution_count": 13
        }
      ]
    },
    {
      "cell_type": "code",
      "source": [
        "token2=doc[2]\n",
        "token2"
      ],
      "metadata": {
        "colab": {
          "base_uri": "https://localhost:8080/"
        },
        "id": "XfNP4CbNfFGh",
        "outputId": "808a1b64-0dc9-4d1c-e75f-0fef9a447b1c"
      },
      "execution_count": 14,
      "outputs": [
        {
          "output_type": "execute_result",
          "data": {
            "text/plain": [
              "৳"
            ]
          },
          "metadata": {},
          "execution_count": 14
        }
      ]
    },
    {
      "cell_type": "code",
      "source": [
        "token2.is_currency"
      ],
      "metadata": {
        "colab": {
          "base_uri": "https://localhost:8080/"
        },
        "id": "dnYmU2oyfO6x",
        "outputId": "9104d2f5-9cf9-4766-fb9e-5f93a2fd627a"
      },
      "execution_count": 15,
      "outputs": [
        {
          "output_type": "execute_result",
          "data": {
            "text/plain": [
              "True"
            ]
          },
          "metadata": {},
          "execution_count": 15
        }
      ]
    },
    {
      "cell_type": "code",
      "source": [
        "for token in doc:\n",
        "  print(token,'==>',token.i,\n",
        "        'is_alpha:',token.is_alpha,\n",
        "        'is_punct',token.is_punct,\n",
        "        'is_currency',token.is_currency,\n",
        "        'like_num',token.like_num,\n",
        "        )"
      ],
      "metadata": {
        "colab": {
          "base_uri": "https://localhost:8080/"
        },
        "id": "dNj_wdMKfiiQ",
        "outputId": "357ecce2-1e27-4549-bc0e-632f6e59b91e"
      },
      "execution_count": 16,
      "outputs": [
        {
          "output_type": "stream",
          "name": "stdout",
          "text": [
            "মন ==> 0 is_alpha: True is_punct False is_currency False like_num False\n",
            "দুই ==> 1 is_alpha: False is_punct False is_currency False like_num False\n",
            "৳ ==> 2 is_alpha: False is_punct False is_currency True like_num False\n",
            "ভালা ==> 3 is_alpha: False is_punct False is_currency False like_num False\n",
            "না ==> 4 is_alpha: False is_punct False is_currency False like_num False\n",
            "রে ==> 5 is_alpha: False is_punct False is_currency False like_num False\n",
            "তোরপিরিত ==> 6 is_alpha: False is_punct False is_currency False like_num False\n",
            "ভালা ==> 7 is_alpha: False is_punct False is_currency False like_num False\n",
            "না ==> 8 is_alpha: False is_punct False is_currency False like_num False\n",
            "রে ==> 9 is_alpha: False is_punct False is_currency False like_num False\n",
            "বন্ধু ==> 10 is_alpha: False is_punct False is_currency False like_num False\n",
            "। ==> 11 is_alpha: False is_punct True is_currency False like_num False\n",
            "। ==> 12 is_alpha: False is_punct True is_currency False like_num False\n",
            "তোর ==> 13 is_alpha: False is_punct False is_currency False like_num False\n",
            "প্রেমে ==> 14 is_alpha: False is_punct False is_currency False like_num False\n",
            "পাগল ==> 15 is_alpha: False is_punct False is_currency False like_num False\n",
            "হইয়া ==> 16 is_alpha: False is_punct False is_currency False like_num False\n",
            "হইলাম ==> 17 is_alpha: False is_punct False is_currency False like_num False\n",
            "কুলহার ==> 18 is_alpha: False is_punct False is_currency False like_num False\n",
            "। ==> 19 is_alpha: False is_punct True is_currency False like_num False\n"
          ]
        }
      ]
    },
    {
      "cell_type": "code",
      "source": [
        "with open('/content/drive/MyDrive/Colab Notebooks/nlp cODE/student.txt') as f:\n",
        "  text=f.readlines()\n"
      ],
      "metadata": {
        "id": "O6D1DZ3VPIlo"
      },
      "execution_count": 36,
      "outputs": []
    },
    {
      "cell_type": "code",
      "source": [
        "text"
      ],
      "metadata": {
        "colab": {
          "base_uri": "https://localhost:8080/"
        },
        "id": "rtfTdn0JQjFm",
        "outputId": "56587eb9-4452-4efb-de44-92efd3f02dfb"
      },
      "execution_count": 37,
      "outputs": [
        {
          "output_type": "execute_result",
          "data": {
            "text/plain": [
              "['Dayton high school, 8th grade students information\\n',\n",
              " '==================================================\\n',\n",
              " 'Name\\t birth day\\t email\\n',\n",
              " 'Virat    5 June, 1882    virat@kohli.com,\\n',\n",
              " 'Maria    12 April, 2001  maria@sharapova.com,\\n',\n",
              " 'Serena   24 June, 1998   serena@williams.com ,\\n',\n",
              " \"Joe      1 May, 1997    joe@root.com'\\n\"]"
            ]
          },
          "metadata": {},
          "execution_count": 37
        }
      ]
    },
    {
      "cell_type": "code",
      "source": [
        "text=' '.join(text)\n",
        "text"
      ],
      "metadata": {
        "colab": {
          "base_uri": "https://localhost:8080/",
          "height": 73
        },
        "id": "hzPoz253Q8EG",
        "outputId": "e778d3af-2984-4028-fa18-03a2f6379a38"
      },
      "execution_count": 38,
      "outputs": [
        {
          "output_type": "execute_result",
          "data": {
            "text/plain": [
              "\"Dayton high school, 8th grade students information\\n ==================================================\\n Name\\t birth day\\t email\\n Virat    5 June, 1882    virat@kohli.com,\\n Maria    12 April, 2001  maria@sharapova.com,\\n Serena   24 June, 1998   serena@williams.com ,\\n Joe      1 May, 1997    joe@root.com'\\n\""
            ],
            "application/vnd.google.colaboratory.intrinsic+json": {
              "type": "string"
            }
          },
          "metadata": {},
          "execution_count": 38
        }
      ]
    },
    {
      "cell_type": "code",
      "source": [
        "nlp=spacy.blank('en')"
      ],
      "metadata": {
        "id": "7dHwPovPRGdh"
      },
      "execution_count": 31,
      "outputs": []
    },
    {
      "cell_type": "code",
      "source": [
        "doc=nlp(text)"
      ],
      "metadata": {
        "id": "ssbb6PfhRYWD"
      },
      "execution_count": 41,
      "outputs": []
    },
    {
      "cell_type": "code",
      "source": [
        "doc"
      ],
      "metadata": {
        "colab": {
          "base_uri": "https://localhost:8080/"
        },
        "id": "AN3JSsqnUEgF",
        "outputId": "3c5fb223-12f9-4514-ceb1-d99f99a6ed2b"
      },
      "execution_count": 42,
      "outputs": [
        {
          "output_type": "execute_result",
          "data": {
            "text/plain": [
              "Dayton high school, 8th grade students information\n",
              " ==================================================\n",
              " Name\t birth day\t email\n",
              " Virat    5 June, 1882    virat@kohli.com,\n",
              " Maria    12 April, 2001  maria@sharapova.com,\n",
              " Serena   24 June, 1998   serena@williams.com ,\n",
              " Joe      1 May, 1997    joe@root.com'"
            ]
          },
          "metadata": {},
          "execution_count": 42
        }
      ]
    },
    {
      "cell_type": "code",
      "source": [
        "emails=[]\n",
        "for token in doc:\n",
        "  if token.like_email:\n",
        "    emails.append(token.text)"
      ],
      "metadata": {
        "id": "l13PRDMWSm7I"
      },
      "execution_count": 43,
      "outputs": []
    },
    {
      "cell_type": "code",
      "source": [
        "emails"
      ],
      "metadata": {
        "colab": {
          "base_uri": "https://localhost:8080/"
        },
        "id": "qPTrlwVCTiyv",
        "outputId": "6e11f073-2d37-494b-fef4-137884d43b82"
      },
      "execution_count": 44,
      "outputs": [
        {
          "output_type": "execute_result",
          "data": {
            "text/plain": [
              "['virat@kohli.com',\n",
              " 'maria@sharapova.com',\n",
              " 'serena@williams.com',\n",
              " 'joe@root.com']"
            ]
          },
          "metadata": {},
          "execution_count": 44
        }
      ]
    },
    {
      "cell_type": "code",
      "source": [
        "from spacy.symbols import ORTH\n",
        "nlp.tokenizer.add_special_case('gimme',[\n",
        "                                        {ORTH:'gim'},\n",
        "                                        {ORTH:'me'}\n",
        "])\n"
      ],
      "metadata": {
        "id": "Npng5ppLW6XZ"
      },
      "execution_count": 45,
      "outputs": []
    },
    {
      "cell_type": "code",
      "source": [
        "doc = nlp(\"gimme double cheese extra large healthy pizza\")"
      ],
      "metadata": {
        "id": "ekSPtw_FYZDl"
      },
      "execution_count": 46,
      "outputs": []
    },
    {
      "cell_type": "code",
      "source": [
        "tokens=[token.text for token in doc]"
      ],
      "metadata": {
        "id": "FNZoKESCYoYU"
      },
      "execution_count": 47,
      "outputs": []
    },
    {
      "cell_type": "code",
      "source": [
        "tokens"
      ],
      "metadata": {
        "colab": {
          "base_uri": "https://localhost:8080/"
        },
        "id": "BE3Y0oR0ZM0N",
        "outputId": "ef0a55d3-34e7-431b-db49-30260ca2650d"
      },
      "execution_count": 48,
      "outputs": [
        {
          "output_type": "execute_result",
          "data": {
            "text/plain": [
              "['gim', 'me', 'double', 'cheese', 'extra', 'large', 'healthy', 'pizza']"
            ]
          },
          "metadata": {},
          "execution_count": 48
        }
      ]
    },
    {
      "cell_type": "code",
      "source": [
        "doc = nlp(\"Dr. Strange loves pav bhaji of mumbai. Hulk loves chat of delhi\")"
      ],
      "metadata": {
        "id": "HWXKYx4QaSv4"
      },
      "execution_count": 49,
      "outputs": []
    },
    {
      "cell_type": "code",
      "source": [
        "nlp.pipeline"
      ],
      "metadata": {
        "colab": {
          "base_uri": "https://localhost:8080/"
        },
        "id": "YDe_YXFEb1yV",
        "outputId": "8d49bd50-d00b-4c9f-a355-876c06038f11"
      },
      "execution_count": 54,
      "outputs": [
        {
          "output_type": "execute_result",
          "data": {
            "text/plain": [
              "[]"
            ]
          },
          "metadata": {},
          "execution_count": 54
        }
      ]
    },
    {
      "cell_type": "code",
      "source": [
        "nlp.add_pipe(nlp.create_pipe('sentencizer'))"
      ],
      "metadata": {
        "id": "odxcIEKTa9oM"
      },
      "execution_count": 57,
      "outputs": []
    },
    {
      "cell_type": "code",
      "source": [
        "doc = nlp(\"Dr. Strange loves pav bhaji of mumbai. Hulk loves chat of delhi\")\n",
        "for sentence in doc.sents:\n",
        "    print(sentence)"
      ],
      "metadata": {
        "colab": {
          "base_uri": "https://localhost:8080/"
        },
        "id": "Lx41YlltcJ_k",
        "outputId": "3370f9f7-a218-402b-b8b7-89eef05813cd"
      },
      "execution_count": 60,
      "outputs": [
        {
          "output_type": "stream",
          "name": "stdout",
          "text": [
            "Dr. Strange loves pav bhaji of mumbai.\n",
            "Hulk loves chat of delhi\n"
          ]
        }
      ]
    }
  ]
}