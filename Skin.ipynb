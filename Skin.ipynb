{
  "nbformat": 4,
  "nbformat_minor": 0,
  "metadata": {
    "colab": {
      "name": "Untitled1.ipynb",
      "private_outputs": true,
      "provenance": [],
      "mount_file_id": "1TTnDe4iDGKxs0xUT87i9gYUh49XrU-3d",
      "authorship_tag": "ABX9TyPdw74YWAXD3fDiiIB6fy7x",
      "include_colab_link": true
    },
    "kernelspec": {
      "name": "python3",
      "display_name": "Python 3"
    },
    "language_info": {
      "name": "python"
    },
    "accelerator": "GPU"
  },
  "cells": [
    {
      "cell_type": "markdown",
      "metadata": {
        "id": "view-in-github",
        "colab_type": "text"
      },
      "source": [
        "<a href=\"https://colab.research.google.com/github/Prattoypaul/deeplearning/blob/machinel/Skin.ipynb\" target=\"_parent\"><img src=\"https://colab.research.google.com/assets/colab-badge.svg\" alt=\"Open In Colab\"/></a>"
      ]
    },
    {
      "cell_type": "code",
      "execution_count": null,
      "metadata": {
        "id": "0XIobJTQYsjt"
      },
      "outputs": [],
      "source": [
        "import numpy as np\n",
        "import pandas as pd\n",
        "import os \n",
        "import cv2\n",
        "import seaborn as sb\n",
        "import  tensorflow as tf\n",
        "from tensorflow import keras\n",
        "import matplotlib.pyplot as plt"
      ]
    },
    {
      "cell_type": "code",
      "source": [
        "!nvidia-smi"
      ],
      "metadata": {
        "id": "AiyKGaMlbeWr"
      },
      "execution_count": null,
      "outputs": []
    },
    {
      "cell_type": "code",
      "source": [
        "pic_size=48"
      ],
      "metadata": {
        "id": "Fo25396bdgG9"
      },
      "execution_count": null,
      "outputs": []
    },
    {
      "cell_type": "code",
      "source": [
        "datadir='/content/drive/MyDrive/Colab Notebooks/A==4 chatbot/Train'"
      ],
      "metadata": {
        "id": "3qK07y4ldmoI"
      },
      "execution_count": null,
      "outputs": []
    },
    {
      "cell_type": "code",
      "source": [
        "classes=['actinic keratosis','basal cell carcinoma','dermatofibroma','nevus','pigmented benign keratosis','seborrheic keratosis','squamous cell carcinoma','vascular lesion']"
      ],
      "metadata": {
        "id": "pijAFok2eCQ4"
      },
      "execution_count": null,
      "outputs": []
    },
    {
      "cell_type": "code",
      "source": [
        "dataset=keras.preprocessing.image_dataset_from_directory(\n",
        "    datadir,seed=123,\n",
        "    shuffle=True,image_size=(256,256),batch_size=16)"
      ],
      "metadata": {
        "id": "Poxqcp18eZUw"
      },
      "execution_count": null,
      "outputs": []
    },
    {
      "cell_type": "code",
      "source": [
        "for img ,lab in dataset.take(1):\n",
        "  print(img.shape)\n",
        "  print(lab.numpy())"
      ],
      "metadata": {
        "id": "4Lr5DdA1hJQ2"
      },
      "execution_count": null,
      "outputs": []
    },
    {
      "cell_type": "code",
      "source": [
        "for img,label in dataset.take(1):\n",
        "  print(img.shape)\n",
        "  print(label.numpy())"
      ],
      "metadata": {
        "id": "2nc2hIQ-0cox"
      },
      "execution_count": null,
      "outputs": []
    },
    {
      "cell_type": "code",
      "source": [
        "len(dataset)"
      ],
      "metadata": {
        "id": "BKxAFt6kh7pu"
      },
      "execution_count": null,
      "outputs": []
    },
    {
      "cell_type": "code",
      "source": [
        "len(dataset)*0.8"
      ],
      "metadata": {
        "id": "Z0_hbHQNiNpw"
      },
      "execution_count": null,
      "outputs": []
    },
    {
      "cell_type": "code",
      "source": [
        "train_ds=dataset.take(118)\n"
      ],
      "metadata": {
        "id": "3Tlv9pRKiaue"
      },
      "execution_count": null,
      "outputs": []
    },
    {
      "cell_type": "code",
      "source": [
        "test=dataset.skip(118)\n",
        "len(test)"
      ],
      "metadata": {
        "id": "XOS4FLUykMM1"
      },
      "execution_count": null,
      "outputs": []
    },
    {
      "cell_type": "code",
      "source": [
        "val_ds=test.take(15)\n",
        "test_ds=test.skip(15)"
      ],
      "metadata": {
        "id": "LgX6h3OQkZS3"
      },
      "execution_count": null,
      "outputs": []
    },
    {
      "cell_type": "code",
      "source": [
        "train_ds=train_ds.cache().shuffle(100000).prefetch(buffer_size=tf.data.AUTOTUNE)\n",
        "val_ds=val_ds.cache().shuffle(100000).prefetch(buffer_size=tf.data.AUTOTUNE)\n",
        "test_ds=test_ds.cache().shuffle(1000000).prefetch(buffer_size=tf.data.AUTOTUNE)"
      ],
      "metadata": {
        "id": "JVMk7nUikonA"
      },
      "execution_count": null,
      "outputs": []
    },
    {
      "cell_type": "code",
      "source": [
        "plt.figure(figsize=(15,15))\n",
        "for img_b,lab_b in dataset.take(1):\n",
        "  for i in range(9):\n",
        "    plt.subplot(3,3,i+1)\n",
        "    plt.imshow(img_b[i].numpy().astype('uint8'))\n",
        "    plt.title(classes[lab_b[i]])\n",
        "    plt.axis('off')"
      ],
      "metadata": {
        "id": "ZTteqLp3mb0I"
      },
      "execution_count": null,
      "outputs": []
    },
    {
      "cell_type": "code",
      "source": [
        "resize_rescale=keras.Sequential([\n",
        "                                 keras.layers.experimental.preprocessing.Resizing(256,256),\n",
        "                                 keras.layers.experimental.preprocessing.Rescaling(1/255)\n",
        "])"
      ],
      "metadata": {
        "id": "jY-0dHByotJu"
      },
      "execution_count": null,
      "outputs": []
    },
    {
      "cell_type": "code",
      "source": [
        "data_augment=keras.Sequential([\n",
        "                               keras.layers.experimental.preprocessing.RandomFlip('horizontal_and_vertical'),\n",
        "                               keras.layers.experimental.preprocessing.RandomRotation(0.3)\n",
        "])"
      ],
      "metadata": {
        "id": "EgkfE73SqkXs"
      },
      "execution_count": null,
      "outputs": []
    },
    {
      "cell_type": "code",
      "source": [
        "train_ds=train_ds.map(\n",
        "    lambda x,y:(data_augment(x,training=True),y)\n",
        ").prefetch(buffer_size=tf.data.AUTOTUNE)"
      ],
      "metadata": {
        "id": "PdqaEGiFsN5l"
      },
      "execution_count": null,
      "outputs": []
    },
    {
      "cell_type": "code",
      "source": [
        "input_shape=(16,256,256,3)"
      ],
      "metadata": {
        "id": "n1tIzJpgun6J"
      },
      "execution_count": null,
      "outputs": []
    },
    {
      "cell_type": "code",
      "source": [
        "model=keras.Sequential([\n",
        "                        resize_rescale,\n",
        "                        keras.layers.Conv2D(32,(3,3),activation='relu',input_shape=input_shape),\n",
        "                        keras.layers.MaxPooling2D((2,2)),\n",
        "                        keras.layers.Conv2D(64,(3,3),activation='relu'),\n",
        "                        keras.layers.MaxPooling2D((2,2)),\n",
        "                        keras.layers.Conv2D(64,(3,3),activation='relu'),\n",
        "                        keras.layers.MaxPooling2D((2,2)),\n",
        "                        keras.layers.Conv2D(64,(3,3),activation='relu'),\n",
        "                        keras.layers.MaxPooling2D((2,2)),\n",
        "                        keras.layers.Conv2D(64,(3,3),activation='relu'),\n",
        "                        keras.layers.MaxPooling2D((2,2)),\n",
        "                       \n",
        "                        keras.layers.MaxPooling2D((2,2)),\n",
        "                        keras.layers.Flatten(),\n",
        "                        keras.layers.Dense(64,activation='relu'),\n",
        "                        keras.layers.Dense(32,activation='relu'),\n",
        "                        keras.layers.Dense(9,activation='softmax')\n",
        "\n",
        "\n",
        "])\n"
      ],
      "metadata": {
        "id": "_sylBBaRu9jZ"
      },
      "execution_count": null,
      "outputs": []
    },
    {
      "cell_type": "code",
      "source": [
        "model.compile(\n",
        "    optimizer='adam',\n",
        "    loss=tf.keras.losses.SparseCategoricalCrossentropy(from_logits=False),\n",
        "    metrics='accuracy'\n",
        ")"
      ],
      "metadata": {
        "id": "P-_yNAc91JZf"
      },
      "execution_count": null,
      "outputs": []
    },
    {
      "cell_type": "code",
      "source": [
        "model.build(input_shape=input_shape)"
      ],
      "metadata": {
        "id": "EJ7BdW0RyDBa"
      },
      "execution_count": null,
      "outputs": []
    },
    {
      "cell_type": "code",
      "source": [
        "model.summary()"
      ],
      "metadata": {
        "id": "rdOxzYhnyLQW"
      },
      "execution_count": null,
      "outputs": []
    },
    {
      "cell_type": "code",
      "source": [
        "ht=model.fit(train_ds,batch_size=16,verbose=1,validation_data=val_ds,epochs=45)"
      ],
      "metadata": {
        "id": "_Fdt_7G5yS9m"
      },
      "execution_count": null,
      "outputs": []
    },
    {
      "cell_type": "code",
      "source": [
        "model.evaluate(test_ds)"
      ],
      "metadata": {
        "id": "-o2d4jQV4vpm"
      },
      "execution_count": null,
      "outputs": []
    },
    {
      "cell_type": "code",
      "source": [
        "ht.params"
      ],
      "metadata": {
        "id": "Um9UDWUiUaYv"
      },
      "execution_count": null,
      "outputs": []
    },
    {
      "cell_type": "code",
      "source": [
        "type(ht.history['loss'])"
      ],
      "metadata": {
        "id": "JOXsO__WUp7D"
      },
      "execution_count": null,
      "outputs": []
    },
    {
      "cell_type": "code",
      "source": [
        "len(ht.history['loss'])"
      ],
      "metadata": {
        "id": "r73KKHFcUzf-"
      },
      "execution_count": null,
      "outputs": []
    },
    {
      "cell_type": "code",
      "source": [
        "ht.history.keys()"
      ],
      "metadata": {
        "id": "X0PrBxDyU38s"
      },
      "execution_count": null,
      "outputs": []
    },
    {
      "cell_type": "code",
      "source": [
        "loss=ht.history['loss']\n",
        "Acc=ht.history['accuracy']\n",
        "val_loss=ht.history['val_loss']\n",
        "val_acc=ht.history['val_accuracy']"
      ],
      "metadata": {
        "id": "gGknw-z8VDv1"
      },
      "execution_count": null,
      "outputs": []
    },
    {
      "cell_type": "code",
      "source": [
        "plt.figure(figsize=(10,8))\n",
        "plt.subplot(1,2,1)\n",
        "plt.plot(range(45),Acc,label='Train_accuracy')\n",
        "plt.plot(range(45),val_acc,label='Validation_Acc')\n",
        "plt.legend(loc='upper right')\n",
        "plt.title('Accuracy Compare')\n",
        "plt.subplot(1,2,2)\n",
        "plt.plot(range(45),loss,label='Train_loss')\n",
        "plt.plot(range(45),val_loss,label='Validation_loss')\n",
        "plt.legend(loc='lower right')\n",
        "plt.title('loss Compare')\n",
        "plt.show()"
      ],
      "metadata": {
        "id": "_aKpcSDIVkSe"
      },
      "execution_count": null,
      "outputs": []
    },
    {
      "cell_type": "code",
      "source": [
        "for img , lab in test_ds.take(1):\n",
        "  first_img=img[0].numpy().astype('uint8')\n",
        "  first_lab=lab[0].numpy()\n",
        "  plt.imshow(first_img)\n",
        "  print('actual_label:',classes[first_lab])\n",
        "  batch_prediction=model.predict(img)\n",
        "  print('predict_label:',classes[np.argmax(batch_prediction[0])])\n",
        "\n",
        "\n"
      ],
      "metadata": {
        "id": "vnehK0_VXV1N"
      },
      "execution_count": null,
      "outputs": []
    },
    {
      "cell_type": "code",
      "source": [
        "from IPython.core.display import Image\n",
        "def predict(model,img):\n",
        "  img_array=keras.preprocessing.image.img_to_array(images[i].numpy())\n",
        "  img_array=tf.expand_dims(img_array,0)\n",
        "\n",
        "  img_predict=model.predict(img_array)\n",
        "  predict_class=classes[np.argmax(img_predict[0])]\n",
        "  confidence=round(100*(np.max(img_predict[0])),2)\n",
        "  return predict_class,confidence\n",
        "  "
      ],
      "metadata": {
        "id": "xOtNZSbLfYm2"
      },
      "execution_count": null,
      "outputs": []
    },
    {
      "cell_type": "code",
      "source": [
        "plt.figure(figsize=(20,20))\n",
        "for images,lab in test_ds.take(1):\n",
        "  for i in range(9):\n",
        "    ax=plt.subplot(3,3,i+1)\n",
        "    plt.imshow(images[i].numpy().astype('uint8'))\n",
        "    predicted_class,confidence=predict(model,images[i].numpy())\n",
        "    actual_lab=classes[lab[i]]\n",
        "    plt.title(f\"Actual label:{actual_lab}\\n Predict:{predicted_class}\\n Confidence:{confidence}\")\n",
        "    plt.axis('off')"
      ],
      "metadata": {
        "id": "4jy1G1hR8hnU"
      },
      "execution_count": null,
      "outputs": []
    }
  ]
}